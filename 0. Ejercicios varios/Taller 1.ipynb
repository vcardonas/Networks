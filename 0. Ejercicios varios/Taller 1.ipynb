{
 "cells": [
  {
   "cell_type": "markdown",
   "metadata": {},
   "source": [
    "# **Análisis Estadístico de Redes Sociales:** *Taller 1*\n",
    "\n",
    "## Valentina Cardona Saldaña"
   ]
  },
  {
   "cell_type": "code",
   "execution_count": null,
   "metadata": {},
   "outputs": [],
   "source": [
    "# Paquetes\n",
    "import pandas as pd\n",
    "import numpy as np\n",
    "\n",
    "#import igraph as ig\n",
    "import networkx as nx\n",
    "\n",
    "import matplotlib.pyplot as plt\n",
    "import seaborn as sns\n",
    "\n",
    "import warnings"
   ]
  },
  {
   "cell_type": "markdown",
   "metadata": {},
   "source": [
    "### Ejercicio 1\n",
    "Reproducir los ejemplos 3.1, 3.2, 3.3, 4.2, 4.4 de [Gestión de datos relacionales](https://rpubs.com/jstats1702/931287) en Python usando igraph y/o NetworkX"
   ]
  },
  {
   "cell_type": "markdown",
   "metadata": {},
   "source": [
    "#### 3.1 Ejemplo: Red binaria no dirigida"
   ]
  },
  {
   "cell_type": "code",
   "execution_count": null,
   "metadata": {},
   "outputs": [],
   "source": [
    "# red binaria no dirigida\n",
    "G1 = nx.Graph()\n",
    "G1.add_edges_from([(1,2), (1,3), (2,3), (2,4), (3,5), (4,5), (4,6), (4,7), (5,6), (6,7)])"
   ]
  },
  {
   "cell_type": "code",
   "execution_count": null,
   "metadata": {},
   "outputs": [],
   "source": [
    "# Clase de objeto\n",
    "print(type(G1))"
   ]
  },
  {
   "cell_type": "code",
   "execution_count": null,
   "metadata": {},
   "outputs": [],
   "source": [
    "# Identificador\n",
    "id(G1)"
   ]
  },
  {
   "cell_type": "code",
   "execution_count": null,
   "metadata": {},
   "outputs": [],
   "source": [
    "# Vértices / Nodos\n",
    "list(G1.nodes)"
   ]
  },
  {
   "cell_type": "code",
   "execution_count": null,
   "metadata": {},
   "outputs": [],
   "source": [
    "# Orden\n",
    "## Número de nodos\n",
    "print(G1.number_of_nodes())\n",
    "\n",
    "## Otra forma\n",
    "print(G1.order())"
   ]
  },
  {
   "cell_type": "code",
   "execution_count": null,
   "metadata": {},
   "outputs": [],
   "source": [
    "# Aristas\n",
    "list(G1.edges)"
   ]
  },
  {
   "cell_type": "code",
   "execution_count": null,
   "metadata": {},
   "outputs": [],
   "source": [
    "# Tamaño\n",
    "## Número de aristas\n",
    "print(G1.number_of_edges())\n",
    "\n",
    "## Otra forma\n",
    "print(G1.size())"
   ]
  },
  {
   "cell_type": "code",
   "execution_count": null,
   "metadata": {},
   "outputs": [],
   "source": [
    "# Ponderada?\n",
    "nx.is_weighted(G1)"
   ]
  },
  {
   "cell_type": "code",
   "execution_count": null,
   "metadata": {},
   "outputs": [],
   "source": [
    "# Simple?\n",
    "not G1.is_multigraph()"
   ]
  },
  {
   "cell_type": "code",
   "execution_count": null,
   "metadata": {},
   "outputs": [],
   "source": [
    "# Visualización\n",
    "\n",
    "## Establecer la semilla\n",
    "np.random.seed(21022024)\n",
    "\n",
    "## Sin etiquetas (Por defecto)\n",
    "plt.figure()\n",
    "plt.title(\"Red binaria no dirigida\")\n",
    "nx.draw(G1)\n",
    "plt.show()"
   ]
  },
  {
   "cell_type": "code",
   "execution_count": null,
   "metadata": {},
   "outputs": [],
   "source": [
    "# Visualización\n",
    "\n",
    "## Establecer la semilla\n",
    "np.random.seed(21022024)\n",
    "\n",
    "## Con etiquetas\n",
    "plt.figure()\n",
    "plt.title(\"Red binaria no dirigida\")\n",
    "nx.draw(G1, with_labels = True)\n",
    "plt.show()"
   ]
  },
  {
   "cell_type": "markdown",
   "metadata": {},
   "source": [
    "#### 3.2 Ejemplo: Red ponderada no dirigida"
   ]
  },
  {
   "cell_type": "code",
   "execution_count": null,
   "metadata": {},
   "outputs": [],
   "source": [
    "# red ponderada no dirigida\n",
    "G2 = G1.copy()\n",
    "\n",
    "## Establecer la semilla\n",
    "np.random.seed(21022024)\n",
    "## Establecer los pesos\n",
    "weights = list(np.round(np.random.rand(G1.size()), 3))\n",
    "\n",
    "## Iterar sobre las aristas del grafo y asignar los pesos\n",
    "for i, edge in enumerate(G1.edges()):\n",
    "    G2[edge[0]][edge[1]]['weight'] = weights[i]\n",
    "    \n",
    "## Verificación\n",
    "print(G2.edges(data = 'weight'))"
   ]
  },
  {
   "cell_type": "code",
   "execution_count": null,
   "metadata": {},
   "outputs": [],
   "source": [
    "# Ponderada?\n",
    "nx.is_weighted(G2)"
   ]
  },
  {
   "cell_type": "code",
   "execution_count": null,
   "metadata": {},
   "outputs": [],
   "source": [
    "# Visualización\n",
    "\n",
    "## Establecer la semilla\n",
    "np.random.seed(21022024)\n",
    "\n",
    "plt.figure()\n",
    "plt.title(\"Red ponderada no dirigida\")\n",
    "widths = nx.get_edge_attributes(G2, 'weight')\n",
    "## Multiplica cada valor por 5\n",
    "widths_scaled = [5 * width for width in widths.values()]\n",
    "nx.draw(G2, with_labels = True, width = widths_scaled)\n",
    "plt.show()"
   ]
  },
  {
   "cell_type": "markdown",
   "metadata": {},
   "source": [
    "#### 3.3 Ejemplo: Red binaria dirigida"
   ]
  },
  {
   "cell_type": "code",
   "execution_count": null,
   "metadata": {},
   "outputs": [],
   "source": [
    "# red binaria dirigida\n",
    "D1 = nx.DiGraph()\n",
    "D1.add_edges_from([(1,2), (1,3), (2,3), (3,2)])"
   ]
  },
  {
   "cell_type": "code",
   "execution_count": null,
   "metadata": {},
   "outputs": [],
   "source": [
    "# Aristas\n",
    "list(D1.edges())"
   ]
  },
  {
   "cell_type": "code",
   "execution_count": null,
   "metadata": {},
   "outputs": [],
   "source": [
    "# Etiquetas\n",
    "## Establecer el nombre de los nodos\n",
    "names = {1: \"Juan\", 2: \"Maria\", 3: \"Pedro\"}\n",
    "D1 = nx.relabel_nodes(D1, names)\n",
    "\n",
    "# Atributo 'sexo' como atributo\n",
    "sexo = {\"Juan\": \"M\", \"Maria\": \"F\", \"Pedro\": \"M\"}\n",
    "nx.set_node_attributes(D1, sexo, \"sexo\")\n",
    "\n",
    "# Aristas\n",
    "print(D1.nodes(data = True))"
   ]
  },
  {
   "cell_type": "code",
   "execution_count": null,
   "metadata": {},
   "outputs": [],
   "source": [
    "# Visualización\n",
    "\n",
    "## Establecer la semilla\n",
    "np.random.seed(21022024)\n",
    "\n",
    "plt.figure()\n",
    "plt.title(\"Red binaria dirigida\")\n",
    "nx.draw(D1, with_labels = True, node_size = 1000)\n",
    "plt.show()"
   ]
  },
  {
   "cell_type": "markdown",
   "metadata": {},
   "source": [
    "#### 4.2 Ejemplo: Red binaria no dirigida"
   ]
  },
  {
   "cell_type": "code",
   "execution_count": null,
   "metadata": {},
   "outputs": [],
   "source": [
    "# red binaria no dirigida\n",
    "G1 = nx.Graph()\n",
    "G1.add_edges_from([(1,2), (1,3), (2,3), (2,4), (3,5), (4,5), (4,6), (4,7), (5,6), (6,7)])"
   ]
  },
  {
   "cell_type": "code",
   "execution_count": null,
   "metadata": {},
   "outputs": [],
   "source": [
    "# Visualización\n",
    "\n",
    "## Establecer la semilla\n",
    "np.random.seed(21022024)\n",
    "\n",
    "plt.figure()\n",
    "plt.title(\"Red binaria no dirigida\")\n",
    "nx.draw(G1, with_labels = True)\n",
    "plt.show()"
   ]
  },
  {
   "cell_type": "code",
   "execution_count": null,
   "metadata": {},
   "outputs": [],
   "source": [
    "# Matriz de adyacencia\n",
    "A = nx.adjacency_matrix(G1)\n",
    "\n",
    "# Clase de objeto\n",
    "type(A)"
   ]
  },
  {
   "cell_type": "code",
   "execution_count": null,
   "metadata": {},
   "outputs": [],
   "source": [
    "print(A)"
   ]
  },
  {
   "cell_type": "code",
   "execution_count": null,
   "metadata": {},
   "outputs": [],
   "source": [
    "# Convertir la matriz dispersa a una matriz densa\n",
    "Y = A.todense()\n",
    "## Otra forma\n",
    "#Y = nx.to_numpy_array(G1)\n",
    "\n",
    "# Clase de objeto\n",
    "type(Y)"
   ]
  },
  {
   "cell_type": "code",
   "execution_count": null,
   "metadata": {},
   "outputs": [],
   "source": [
    "# Simétrica?\n",
    "np.array_equal(Y, Y.T)"
   ]
  },
  {
   "cell_type": "code",
   "execution_count": null,
   "metadata": {},
   "outputs": [],
   "source": [
    "print(Y)"
   ]
  },
  {
   "cell_type": "code",
   "execution_count": null,
   "metadata": {},
   "outputs": [],
   "source": [
    "# Versión vectorizada exhaustiva\n",
    "r = np.arange(len(Y))\n",
    "\n",
    "mask = r[:,None]<r\n",
    "\n",
    "## Triangular inferior\n",
    "yvec1 = Y.T[mask]\n",
    "\n",
    "print(yvec1)"
   ]
  },
  {
   "cell_type": "code",
   "execution_count": null,
   "metadata": {},
   "outputs": [],
   "source": [
    "# Versión vectorizada indexada\n",
    "yvec2 = np.where(yvec1 == 1)\n",
    "\n",
    "print(yvec2[0])"
   ]
  },
  {
   "cell_type": "markdown",
   "metadata": {},
   "source": [
    "#### 4.4 Ejemplo: Red binaria no dirigida (cont.)"
   ]
  },
  {
   "cell_type": "code",
   "execution_count": null,
   "metadata": {},
   "outputs": [],
   "source": [
    "# Matriz de aristas\n",
    "n = Y.shape[0]\n",
    "A = []\n",
    "for i in range(n-1):\n",
    "    for j in range(i+1, n):\n",
    "        if Y[i, j] == 1:\n",
    "            A.append([i+1, j+1])  # Suma 1 a i y j para que los índices comiencen desde 1\n",
    "\n",
    "A = np.array(A)"
   ]
  },
  {
   "cell_type": "code",
   "execution_count": null,
   "metadata": {},
   "outputs": [],
   "source": [
    "# Clase de objeto\n",
    "type(A)"
   ]
  },
  {
   "cell_type": "code",
   "execution_count": null,
   "metadata": {},
   "outputs": [],
   "source": [
    "print(A)"
   ]
  },
  {
   "cell_type": "markdown",
   "metadata": {},
   "source": [
    "### Ejercicio 2\n",
    "Considere el grafo $G = (V,E)$, con\n",
    "\n",
    "$V = \\{1, 2, 3, 4, 5\\}$ y $E = \\{\\{1, 2\\}; \\{1, 3\\}; \\{2, 3\\}; \\{2, 4\\}; \\{2, 5\\}; \\{3, 5\\}; \\{4, 5\\}\\}$.\n",
    "\n",
    "(a) Visualizar G.\n",
    "\n",
    "(b) Calcular el orden, el tamaño, y el diámetro del grafo.\n",
    "\n",
    "(c) Calcular el grado de cada vértice.\n",
    "\n",
    "(d) Graficar el subgrafo generado por los nodos 1, 2, 3, y 4."
   ]
  },
  {
   "cell_type": "code",
   "execution_count": null,
   "metadata": {},
   "outputs": [],
   "source": [
    "# Definir grafo\n",
    "G3 = nx.Graph()\n",
    "G3.add_nodes_from([1, 2, 3, 4, 5])\n",
    "G3.add_edges_from([(1,2), (1,3), (2,3), (2,4), (2,5), (3,5), (4,5)])\n",
    "\n",
    "print(G3.nodes())\n",
    "print(G3.edges())"
   ]
  },
  {
   "cell_type": "code",
   "execution_count": null,
   "metadata": {},
   "outputs": [],
   "source": [
    "# (a) Visualizar G\n",
    "\n",
    "## Establecer la semilla\n",
    "np.random.seed(21022024)\n",
    "\n",
    "plt.figure()\n",
    "plt.title(\"Red binaria no dirigida\")\n",
    "nx.draw(G3, with_labels = True, node_color = '#22bbbb', node_size = 500)\n",
    "plt.show()"
   ]
  },
  {
   "cell_type": "code",
   "execution_count": null,
   "metadata": {},
   "outputs": [],
   "source": [
    "# (b) Calcular el orden, el tamaño, y el diámetro del grafo.\n",
    "\n",
    "print(\"Orden del grafo: \", G3.order())\n",
    "print(\"Tamaño del grafo: \", G3.size())\n",
    "print(\"Diámetro del grafo: \", nx.diameter(G3))"
   ]
  },
  {
   "cell_type": "code",
   "execution_count": null,
   "metadata": {},
   "outputs": [],
   "source": [
    "# (c) Calcular el grado de cada vértice.\n",
    "\n",
    "#print(G3.degree())\n",
    "\n",
    "for nodo, grado in G3.degree():\n",
    "    print(\"El grado del nodo\", nodo, \"es:\", grado)"
   ]
  },
  {
   "cell_type": "code",
   "execution_count": null,
   "metadata": {},
   "outputs": [],
   "source": [
    "# (d) Graficar el subgrafo generado por los nodos 1, 2, 3, y 4.\n",
    "\n",
    "## Eliminar nodo 5\n",
    "G3.remove_node(5)\n",
    "\n",
    "## Establecer la semilla\n",
    "np.random.seed(21022024)\n",
    "\n",
    "plt.figure()\n",
    "plt.title(\"Subgrafo con nodos 1, 2, 3 y 4\")\n",
    "nx.draw(G3, with_labels = True, node_color = '#22bbbb', node_size = 500)\n",
    "plt.show()"
   ]
  },
  {
   "cell_type": "markdown",
   "metadata": {},
   "source": [
    "### Ejercicio 3\n",
    "Considere el digrafo $G = (V,E)$, con\n",
    "\n",
    "$V = \\{1, 2, 3, 4, 5\\}$ y $E = \\{(1, 3); (2, 3); (2, 4); (2, 5); (3, 1); (3, 5); (4, 5); (5, 4)\\}$.\n",
    "\n",
    "(a) Visualizar G.\n",
    "\n",
    "(b) Calcular el orden, el tamaño, y el diámetro del grafo.\n",
    "\n",
    "(c) Calcular el grado de cada vértice del grafo.\n",
    "\n",
    "(d) Graficar el subgrafo generado por los nodos 1, 2, 3, y 4."
   ]
  },
  {
   "cell_type": "code",
   "execution_count": null,
   "metadata": {},
   "outputs": [],
   "source": [
    "# Crear digrafo\n",
    "D2 = nx.DiGraph()\n",
    "D2.add_nodes_from([1, 2, 3, 4, 5])\n",
    "D2.add_edges_from([(1,3), (2,3), (2,4), (2,5), (3,1), (3,5), (4,5), (5,4)])\n",
    "\n",
    "print(D2.nodes())\n",
    "print(D2.edges())"
   ]
  },
  {
   "cell_type": "code",
   "execution_count": null,
   "metadata": {},
   "outputs": [],
   "source": [
    "# (a) Visualizar G.\n",
    "\n",
    "## Establecer la semilla\n",
    "np.random.seed(21022024)\n",
    "\n",
    "plt.figure()\n",
    "plt.title(\"Red binaria dirigida\")\n",
    "nx.draw(D2, with_labels = True, node_color = '#bbbb22', node_size = 500)\n",
    "plt.show()"
   ]
  },
  {
   "cell_type": "code",
   "execution_count": null,
   "metadata": {},
   "outputs": [],
   "source": [
    "# (b) Calcular el orden, el tamaño, y el diámetro del grafo.\n",
    "print(\"Orden del digrafo: \", D2.order())\n",
    "print(\"Tamaño del digrafo: \", D2.size())\n",
    "print(\"Diámetro del digrafo: \", nx.diameter(D2.to_undirected()))"
   ]
  },
  {
   "cell_type": "code",
   "execution_count": null,
   "metadata": {},
   "outputs": [],
   "source": [
    "# (c) Calcular el grado de cada vértice del grafo.\n",
    "\n",
    "## Calcular el grado de entrada y de salida de cada nodo\n",
    "grado_entrada = dict(D2.in_degree())\n",
    "grado_salida = dict(D2.out_degree())\n",
    "\n",
    "## Imprimir los grados de cada nodo\n",
    "for nodo in D2.nodes():\n",
    "    grado_in = grado_entrada.get(nodo, 0)\n",
    "    grado_out = grado_salida.get(nodo, 0)\n",
    "    print(\"El nodo\", nodo, \"tiene grado de entrada:\", grado_in, \"y grado de salida:\", grado_out)"
   ]
  },
  {
   "cell_type": "code",
   "execution_count": null,
   "metadata": {},
   "outputs": [],
   "source": [
    "# (d) Graficar el subgrafo generado por los nodos 1, 2, 3, y 4.\n",
    "\n",
    "## Eliminar nodo 5\n",
    "D2.remove_node(5)\n",
    "\n",
    "## Establecer la semilla\n",
    "np.random.seed(21022024)\n",
    "\n",
    "plt.figure()\n",
    "plt.title(\"Subgrafo con nodos 1, 2, 3 y 4\")\n",
    "nx.draw_circular(D2, with_labels = True, node_color = '#bbbb22', node_size = 500)\n",
    "plt.show()"
   ]
  },
  {
   "cell_type": "markdown",
   "metadata": {},
   "source": [
    "### Ejercicio 4\n",
    "Una triada es un subgrafo generado a partir de una tripla de vértices.\n",
    "\n",
    "(a) Graficar todos los posibles estados triádicos no dirigidos.\n",
    "\n",
    "(b) Identificar los estados isomorfos."
   ]
  },
  {
   "cell_type": "code",
   "execution_count": null,
   "metadata": {},
   "outputs": [],
   "source": [
    "# (a) Graficar todos los posibles estados triádicos no dirigidos.\n",
    "\n",
    "## Establecer la semilla\n",
    "np.random.seed(21022024)\n",
    "\n",
    "## Crear grafo con 3 nodos\n",
    "G4 = nx.Graph()\n",
    "G4.add_nodes_from([1, 2, 3])\n",
    "\n",
    "## Definir la posición de los nodos\n",
    "pos = {1: (0, 0), 2: (0, 1), 3: (1, 0)}\n",
    "\n",
    "## Crear la figura y los ejes\n",
    "fig, axes = plt.subplots(3, 3)\n",
    "fig.set_size_inches(10, 10)\n",
    "\n",
    "## Definir una función para dibujar la red en cada subfigura\n",
    "def draw_graph(graph, ax, pos, **kwargs):\n",
    "    ## Dibujar los nodos y las aristas\n",
    "    nx.draw(graph, ax=ax, pos=pos, with_labels=True, node_color='lightblue', node_size=500, **kwargs)\n",
    "    ## Limitar los ejes para que se ajusten al rectángulo\n",
    "    ax.set_xlim(-0.5, 1.5)\n",
    "    ax.set_ylim(-0.5, 1.5)\n",
    "\n",
    "## Dibujar cada configuración en una subfigura diferente\n",
    "configurations = [\n",
    "    [(1, 2)], \n",
    "    [(1, 3)], \n",
    "    [(2, 3)], \n",
    "    [(1, 2), (1, 3)], \n",
    "    [(2, 1), (2, 3)], \n",
    "    [(3, 1), (3, 2)], \n",
    "    [(1, 2), (1, 3), (2, 3)], \n",
    "    []\n",
    "]\n",
    "\n",
    "for i, config in enumerate(configurations):\n",
    "    ## Agregar las aristas correspondientes\n",
    "    G4.add_edges_from(config)\n",
    "    ## Dibujar la red en la subfigura correspondiente, excepto para la última\n",
    "    if i < 8:\n",
    "        draw_graph(G4, ax=axes[i//3, i%3], pos=pos)\n",
    "        ## Agregar el número de la subfigura en la esquina superior izquierda\n",
    "        axes[i//3, i%3].text(0.05, 0.95, str(i+1), transform=axes[i//3, i%3].transAxes, fontsize=12,\n",
    "                            verticalalignment='top', bbox=dict(facecolor='white', alpha=0.5))\n",
    "    ## Remover las aristas para la próxima configuración\n",
    "    G4.remove_edges_from(config)\n",
    "\n",
    "## Eliminar los ejes para la última subfigura\n",
    "axes[2, 2].axis('off')\n",
    "\n",
    "## Mostrar el gráfico\n",
    "plt.tight_layout()\n",
    "plt.show()"
   ]
  },
  {
   "cell_type": "code",
   "execution_count": null,
   "metadata": {},
   "outputs": [],
   "source": [
    "# (b) Identificar los estados isomorfos.\n",
    "\n",
    "## Inicializar una lista para almacenar los gráficos\n",
    "graphs = []\n",
    "\n",
    "## Generar los gráficos y agregarlos a la lista\n",
    "for config in configurations:\n",
    "    G = nx.Graph()\n",
    "    G.add_edges_from(config)\n",
    "    graphs.append(G)\n",
    "\n",
    "## Determinar qué gráficos son isomorfos\n",
    "for i in range(len(graphs)):\n",
    "    for j in range(len(graphs)):\n",
    "        if j > i and nx.is_isomorphic(graphs[i], graphs[j]):\n",
    "            print(f\"Los gráficos {i+1} y {j+1} son isomorfos.\")"
   ]
  },
  {
   "cell_type": "markdown",
   "metadata": {},
   "source": [
    "### Ejercicio 5\n",
    "\n",
    "Visualizar todos los grafos (no dirigidos) conectados con 4 vértices."
   ]
  },
  {
   "cell_type": "code",
   "execution_count": null,
   "metadata": {},
   "outputs": [],
   "source": [
    "## Establecer la semilla\n",
    "np.random.seed(21022024)\n",
    "\n",
    "fig, axes = plt.subplots(2, 3, figsize = (10, 5))\n",
    "\n",
    "## Función\n",
    "def draw_square_configuration(plots, ax):\n",
    "    G = nx.Graph()\n",
    "    G.add_nodes_from([1, 2, 3, 4])\n",
    "    G.add_edges_from(plots)\n",
    "    \n",
    "    ## Coordenadas de los nodos\n",
    "    pos = {1: (0, 1), 2: (1, 1),\n",
    "           3: (0, 0), 4: (1, 0)}\n",
    "    \n",
    "    ## Dibujar el grafo\n",
    "    nx.draw(G, pos = pos, ax = ax, with_labels = True,\n",
    "            node_color = 'lightblue', node_size = 500, font_size = 12)\n",
    "\n",
    "## Configuraciones\n",
    "conf = {\n",
    "    \"1\": [(1, 2), (2, 4), (4, 3), (3, 1)],\n",
    "    \"2\": [(1, 3), (3, 4), (4, 2)],\n",
    "    \"3\": [(1, 3), (3, 4), (3, 2)],\n",
    "    \"4\": [(1, 3), (3, 4), (4, 2), (3, 2)],\n",
    "    \"5\": [(1, 3), (3, 4), (4, 2), (2, 1), (3, 2)],\n",
    "    \"6\": [(1, 3), (3, 4), (4, 2), (2, 1), (3, 2), (1, 4)],\n",
    "}\n",
    "\n",
    "## Ciclo por cada grafo\n",
    "for (title, plots), ax in zip(conf.items(), axes.flatten()):\n",
    "    draw_square_configuration(plots, ax)\n",
    "    ax.set_title(title, fontsize = 12, fontweight = \"extra bold\")\n",
    "\n",
    "fig.tight_layout()\n",
    "plt.show()"
   ]
  },
  {
   "cell_type": "markdown",
   "metadata": {},
   "source": [
    "### Ejercicio 6\n",
    "Escribir una rutina que reconstruya la matriz de adyacencia a partir de la matriz\n",
    "de aristas y una lista de vértices.\n",
    "\n",
    "(a) Simular una red no dirigida de 25 nodos generada a partir de enlaces aleatorios independientes e idénticamente distribuidos con probabilidad de éxito 0.1.\n",
    "\n",
    "(b) Probar la rutina con la red simulada.\n",
    "\n",
    "(c) Visualizar la red simulada por medio de un grafo y una socio-matriz."
   ]
  },
  {
   "cell_type": "code",
   "execution_count": null,
   "metadata": {},
   "outputs": [],
   "source": [
    "# Función\n",
    "def matriz_adyacencia(matriz_aristas, lista_vertices):\n",
    "    ## Inicializar una matriz de adyacencia llena de ceros\n",
    "    n = len(lista_vertices)\n",
    "    matriz_adj = np.zeros((n, n), dtype = int)\n",
    "    \n",
    "    ## Recorrer la matriz de aristas\n",
    "    for arista in matriz_aristas:\n",
    "        ## Obtener los índices de los vértices\n",
    "        vertice_1 = arista[0] - 1  ## Restar 1 para ajustar al índice de Python (comienza en 0)\n",
    "        vertice_2 = arista[1] - 1\n",
    "        \n",
    "        ## Marcar la conexión en ambas direcciones\n",
    "        matriz_adj[vertice_1, vertice_2] = 1\n",
    "        matriz_adj[vertice_2, vertice_1] = 1\n",
    "    \n",
    "    return matriz_adj"
   ]
  },
  {
   "cell_type": "code",
   "execution_count": null,
   "metadata": {},
   "outputs": [],
   "source": [
    "# (a) Simular una red no dirigida de 25 nodos generada a partir de enlaces aleatorios independientes e idénticamente distribuidos con probabilidad de éxito 0.1.\n",
    "\n",
    "## Establecer la semilla\n",
    "np.random.seed(21022024)\n",
    "\n",
    "## Número de nodos\n",
    "n = 25\n",
    "\n",
    "## Lista de vértices\n",
    "G6_Vertices = list(range(1, n + 1))\n",
    "\n",
    "## Matriz de matriz de aristas\n",
    "G6_Aristas = []\n",
    "\n",
    "## Iterar sobre todas las parejas de nodos y agregar un enlace con la probabilidad dada\n",
    "for i in G6_Vertices:\n",
    "    for j in range(i+1, n+1):\n",
    "        if np.random.binomial(1, 0.1) == 1:\n",
    "            G6_Aristas.append([i, j])\n",
    "            \n",
    "print(G6_Aristas)"
   ]
  },
  {
   "cell_type": "code",
   "execution_count": null,
   "metadata": {},
   "outputs": [],
   "source": [
    "# (b) Probar la rutina con la red simulada.\n",
    "A = matriz_adyacencia(G6_Aristas, G6_Vertices)\n",
    "\n",
    "# Clase de objeto\n",
    "print(type(A))\n",
    "# Simétrica?\n",
    "print(np.array_equal(A, A.T))\n",
    "# Visualizar A\n",
    "print(A)"
   ]
  },
  {
   "cell_type": "code",
   "execution_count": null,
   "metadata": {},
   "outputs": [],
   "source": [
    "# (c) Visualizar la red simulada por medio de un grafo y una socio-matriz.\n",
    "\n",
    "## Crear grafo de la matriz de adyacencia\n",
    "G6 = nx.from_numpy_array(A)\n",
    "## Establecer el nombre de los nodos\n",
    "mapping = {i: v for i, v in enumerate(G6_Vertices)}\n",
    "G6 = nx.relabel_nodes(G6, mapping)\n",
    "\n",
    "## Establecer la semilla\n",
    "np.random.seed(21022024)\n",
    "\n",
    "## Ignorar advertencias\n",
    "warnings.filterwarnings(\"ignore\")\n",
    "\n",
    "## Crear una figura y ejes para los subplots\n",
    "fig, axs = plt.subplots(1, 2, figsize = (12, 6))\n",
    "\n",
    "## Primer subplot: Grafo\n",
    "plt.sca(axs[0])\n",
    "plt.title(\"Red no dirigida simulada\")\n",
    "pos = nx.spring_layout(G6, k = 0.15, iterations = 20)\n",
    "nx.draw(G6, pos = pos, with_labels = True, node_color = '#F6CEFC', node_size = 400)\n",
    "\n",
    "## Segundo subplot: Heatmap\n",
    "plt.sca(axs[1])\n",
    "sns.heatmap(A, annot = False, cmap = sns.cubehelix_palette(as_cmap = True), vmin = 0, vmax = 1, square = True)\n",
    "plt.xticks(ticks=np.arange(0.5, len(G6_Vertices)), labels=G6_Vertices)\n",
    "plt.yticks(ticks=np.arange(0.5, len(G6_Vertices)), labels=G6_Vertices)\n",
    "plt.title('Socio-matriz')\n",
    "\n",
    "## Ajustar diseño\n",
    "plt.tight_layout()\n",
    "\n",
    "## Mostrar los subplots\n",
    "plt.show()\n"
   ]
  },
  {
   "cell_type": "markdown",
   "metadata": {},
   "source": [
    "### Ejercicio 7\n",
    "Escribir una rutina que reconstruya la matriz de aristas y la lista de vértices a partir de la matriz de adyacencia.\n",
    "\n",
    "(a) Simular una red no dirigida de 25 nodos generada a partir de enlaces aleatorios independientes e idénticamente distribuidos con probabilidad de éxito 0.1.\n",
    "\n",
    "(b) Probar la rutina con la red simulada.\n",
    "\n",
    "(c) Visualizar la red simulada por medio de un grafo y una socio-matriz."
   ]
  },
  {
   "cell_type": "code",
   "execution_count": null,
   "metadata": {},
   "outputs": [],
   "source": [
    "# Función\n",
    "def aristas_y_vertices(matriz_adj):\n",
    "    ## Obtener el tamaño de la matriz de adyacencia\n",
    "    n = len(matriz_adj)\n",
    "    \n",
    "    ## Lista para almacenar las aristas y la lista de los vértices\n",
    "    aristas = []\n",
    "    lista_vertices = list(range(1, n+1))\n",
    "    \n",
    "    ## Recorrer la matriz de adyacencia para encontrar las aristas\n",
    "    for i in range(n):\n",
    "        for j in range(i+1, n):  ## Solo mitad superior de la matriz debido a la simetría\n",
    "            if matriz_adj[i, j] == 1:\n",
    "                aristas.append([i+1, j+1])  ## Añadir 1 para ajustar al índice de los vértices\n",
    "    \n",
    "    return aristas, lista_vertices"
   ]
  },
  {
   "cell_type": "code",
   "execution_count": null,
   "metadata": {},
   "outputs": [],
   "source": [
    "#(a) Simular una red no dirigida de 25 nodos generada a partir de enlaces aleatorios independientes e idénticamente distribuidos con probabilidad de éxito 0.1.\n",
    "\n",
    "## Establecer la semilla\n",
    "np.random.seed(21022024)\n",
    "\n",
    "## Número de nodos\n",
    "n = 25\n",
    "\n",
    "## Matriz de adyacencia llena de 0s\n",
    "G7_MatrizAdj = np.zeros((n, n), dtype = int)\n",
    "\n",
    "## Iterar sobre matriz y agregar un enlace con la probabilidad dada\n",
    "for i in range(n):\n",
    "    for j in range(i+1, n):\n",
    "        if np.random.binomial(1, 0.1) == 1:\n",
    "            G7_MatrizAdj[i, j] = 1\n",
    "            G7_MatrizAdj[j, i] = 1\n",
    "            \n",
    "print(G7_MatrizAdj)"
   ]
  },
  {
   "cell_type": "code",
   "execution_count": null,
   "metadata": {},
   "outputs": [],
   "source": [
    "# (b) Probar la rutina con la red simulada.\n",
    "G7_Aristas, G7_Vertices = aristas_y_vertices(A)\n",
    "\n",
    "print(G7_Vertices)\n",
    "print(G7_Aristas)"
   ]
  },
  {
   "cell_type": "code",
   "execution_count": null,
   "metadata": {},
   "outputs": [],
   "source": [
    "# (c) Visualizar la red simulada por medio de un grafo y una socio-matriz.\n",
    "\n",
    "## Crear grafo a partir de la matriz de aristas y lista de vértices\n",
    "G7 = nx.Graph()\n",
    "G7.add_nodes_from(G7_Vertices)\n",
    "G7.add_edges_from(G7_Aristas)\n",
    "\n",
    "## Establecer la semilla\n",
    "np.random.seed(21022024)\n",
    "\n",
    "## Ignorar advertencias\n",
    "warnings.filterwarnings(\"ignore\")\n",
    "\n",
    "## Crear una figura y ejes para los subplots\n",
    "fig, axs = plt.subplots(1, 2, figsize = (12, 6))\n",
    "\n",
    "## Primer subplot: Grafo\n",
    "plt.sca(axs[0])\n",
    "plt.title(\"Red no dirigida simulada\")\n",
    "pos = nx.spring_layout(G7, k = 0.15, iterations = 20)\n",
    "nx.draw(G7, pos = pos, with_labels = True, node_color = '#F6CEFC', node_size = 400)\n",
    "\n",
    "## Segundo subplot: Heatmap\n",
    "plt.sca(axs[1])\n",
    "sns.heatmap(A, annot = False, cmap = sns.cubehelix_palette(as_cmap = True), vmin = 0, vmax = 1, square = True)\n",
    "plt.xticks(ticks=np.arange(0.5, len(G7_Vertices)), labels=G7_Vertices)\n",
    "plt.yticks(ticks=np.arange(0.5, len(G7_Vertices)), labels=G7_Vertices)\n",
    "plt.title('Socio-matriz')\n",
    "\n",
    "## Ajustar diseño\n",
    "plt.tight_layout()\n",
    "\n",
    "## Mostrar los subplots\n",
    "plt.show()"
   ]
  },
  {
   "cell_type": "markdown",
   "metadata": {},
   "source": [
    "### Ejercicio 8\n",
    "Escribir una rutina que simule redes tanto dirigidas como no dirigidas a partir de enlaces aleatorios independientes e idénticamente distribuidos con una probabilidad de éxito dada. Esta rutina debe tener como argumentos el orden de la red, la probabilidad de interacción (por defecto 0.5), el tipo de red (por defecto como no dirigida) y la semilla (por defecto 123), y además, tener como retorno una versión vectorizada de la matriz de adyacencia y una visualización. Probar esta rutina generando cuatro casos diferentes"
   ]
  },
  {
   "cell_type": "code",
   "execution_count": 163,
   "metadata": {},
   "outputs": [],
   "source": [
    "# Función\n",
    "def red_simulada(orden, prob = 0.5, tipo = \"No dirigida\", semilla = 123):\n",
    "    \n",
    "    ## Establecer la semilla\n",
    "    np.random.seed(semilla)\n",
    "    \n",
    "    ## Tipo de red\n",
    "    if tipo == \"No dirigida\":\n",
    "        ## Iterar sobre número de nodos (orden) y agregar un enlace con la probabilidad dada\n",
    "        edges = [(i, j) for i in range(1, orden+1) for j in range(i+1, orden+1) if np.random.binomial(1, prob) == 1]\n",
    "        ## Crear grafo\n",
    "        g = nx.Graph()\n",
    "        g.add_nodes_from(list(range(1, orden+1)))\n",
    "        g.add_edges_from(edges)\n",
    "        \n",
    "    \n",
    "    elif tipo == \"Dirigida\":\n",
    "        edges = []\n",
    "        for _ in range(2):  # Replicar el comportamiento del bucle while ejecutándolo dos veces\n",
    "            edges.extend([(i, j) for i in range(1, orden+1) for j in range(i+1, orden+1) if np.random.binomial(1, prob) == 1])\n",
    "\n",
    "        g = nx.DiGraph()\n",
    "        g.add_nodes_from(list(range(1, orden+1)))\n",
    "        g.add_edges_from(edges)\n",
    "\n",
    "    else:\n",
    "        return \"Tipo de red no válida\"\n",
    "    \n",
    "    ## Matriz de Adyacencia\n",
    "    MatrizAdj = nx.adjacency_matrix(g).todense()\n",
    "    ## Versión vectorizada\n",
    "    r = np.arange(len(MatrizAdj)) \n",
    "    ## Triangulares\n",
    "    Vec = f\"Triangular inferior: {MatrizAdj.T[r[:, None] < r]}\"\n",
    "    if tipo == \"Dirigida\":\n",
    "        Vec += f\"\\nTriangular superior: {MatrizAdj.T[r[:, None] > r]}\"\n",
    "\n",
    "    ## Ignorar advertencias\n",
    "    warnings.filterwarnings(\"ignore\")\n",
    "    ## Visualización\n",
    "    plt.figure(figsize = (8, 6))\n",
    "    pos = nx.spring_layout(g)\n",
    "    nx.draw(g, pos, with_labels = True, node_color = 'skyblue', node_size = 500)\n",
    "    plt.title(\"Red Simulada Dirigida\" if tipo == \"Digida\" else \"Red Simulada No Dirigida\")\n",
    "     \n",
    "    return Vec, plt"
   ]
  },
  {
   "cell_type": "markdown",
   "metadata": {},
   "source": [
    "### Ejercicio 9 ??\n",
    "Considere el conjunto de datos dado en el archivo ```addhealth.RData``` disponible en la página web del curso. Estos datos fueron recopilados por *The National Longitudinal Study of Adolescent Health* y están asociados con un estudio escolar sobre salud y comportamientos sociales de adolescentes de varias escuelas en los Estados Unidos.\n",
    "Los participantes nominaron hasta 5 niños y 5 niñas como amigos y reportaron el número de actividades extracurriculares en las que participaron juntos.\n",
    "\n",
    "El archivo ```addhealth.RData``` contiene una lista con dos arreglos, ```X y E. X``` tiene tres campos: ```female``` (0 = No, 1 = Sí), ```race``` (1 = Blanco, 2 = Negro, 3 = Hispano, 4 = Otro) y ```grade``` (grado del estudiante). ```E``` también tiene tres campos: ```V1``` (vértice de salida) ```V2``` (vértice de llegada) y ```activities``` (número de actividades extracurriculares).\n",
    "\n",
    "(a) Identificar y clasificar las variables nodales.\n",
    "\n",
    "(b) Identificar y clasificar las variables relacionales.\n",
    "\n",
    "(c) Calcular el orden, el tamaño, y el diámetro de la red.\n",
    "\n",
    "(d) Visualizar la red sin tener en cuenta las variables nodales por medio de un grafo y una socio-matriz.\n",
    "\n",
    "(e) Identificar el top 5 de los nodos más propensos a emitir/recibir relaciones."
   ]
  },
  {
   "cell_type": "code",
   "execution_count": null,
   "metadata": {},
   "outputs": [],
   "source": []
  },
  {
   "cell_type": "markdown",
   "metadata": {},
   "source": [
    "### Ejercicio 10\n",
    "Sintetizar y replicar la sección 2.4.2 (Special Types of Graphs, p. 24) de Kolaczyk and Csárdi (2020)."
   ]
  },
  {
   "cell_type": "code",
   "execution_count": null,
   "metadata": {},
   "outputs": [],
   "source": []
  }
 ],
 "metadata": {
  "kernelspec": {
   "display_name": "networks",
   "language": "python",
   "name": "python3"
  },
  "language_info": {
   "codemirror_mode": {
    "name": "ipython",
    "version": 3
   },
   "file_extension": ".py",
   "mimetype": "text/x-python",
   "name": "python",
   "nbconvert_exporter": "python",
   "pygments_lexer": "ipython3",
   "version": "3.12.2"
  }
 },
 "nbformat": 4,
 "nbformat_minor": 2
}
