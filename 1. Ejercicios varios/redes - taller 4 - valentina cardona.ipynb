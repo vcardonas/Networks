{
 "cells": [
  {
   "cell_type": "markdown",
   "metadata": {},
   "source": [
    "# **Análisis Estadístico de Redes Sociales: Taller 4**\n",
    "\n",
    "## Valentina Cardona Saldaña"
   ]
  },
  {
   "cell_type": "markdown",
   "metadata": {},
   "source": [
    "## **WEB SCRAPING: RECOLECCIÓN DE TRANSCRIPCIONES**"
   ]
  },
  {
   "cell_type": "markdown",
   "metadata": {},
   "source": [
    "### **LIBRERÍAS**"
   ]
  },
  {
   "cell_type": "code",
   "execution_count": null,
   "metadata": {},
   "outputs": [],
   "source": [
    "# Paquetes\n",
    "import pandas as pd\n",
    "import numpy as np\n",
    "import time\n",
    "\n",
    "import selenium\n",
    "from selenium import webdriver\n",
    "from selenium.webdriver.chrome.service import Service\n",
    "from selenium.webdriver.common.by import By\n",
    "from selenium.webdriver.support.ui import WebDriverWait\n",
    "from selenium.webdriver.support import expected_conditions as EC\n",
    "from selenium.webdriver.common.keys import Keys\n",
    "from selenium.common.exceptions import NoSuchElementException\n"
   ]
  },
  {
   "cell_type": "markdown",
   "metadata": {},
   "source": [
    "### **FUNCIONES**"
   ]
  },
  {
   "cell_type": "code",
   "execution_count": null,
   "metadata": {},
   "outputs": [],
   "source": [
    "# Función para extracción de links\n",
    "def WS_LINKS():\n",
    "\n",
    "    títulos = []\n",
    "    links = []\n",
    "\n",
    "    # Función para recolectar links\n",
    "    def Encontrar_links():\n",
    "        try:\n",
    "            # Encontrar bloque de playlist\n",
    "            block = driver.find_element(By.CLASS_NAME, \"style-scope ytd-playlist-video-list-renderer\")\n",
    "            search_list = block.find_elements(By.XPATH, \"//h3[contains(@class, 'ytd-playlist-video-renderer')]\")\n",
    "\n",
    "            # Recolectar links y títulos\n",
    "            for search in search_list:\n",
    "                all_links = search.find_elements(By.TAG_NAME, \"a\")\n",
    "                for a in all_links:\n",
    "                    if str(a.get_attribute(\"href\")).startswith(\"https://www.youtube.com/\") and a.get_attribute(\"href\") not in links: \n",
    "                        títulos.append(a.text)\n",
    "                        links.append(a.get_attribute(\"href\"))\n",
    "                    else:\n",
    "                        pass\n",
    "\n",
    "                # Desplazar hacia abajo para ver todos los títulos de los vídeos\n",
    "                driver.execute_script(\"arguments[0].scrollIntoView();\", search)\n",
    "        except:\n",
    "            pass\n",
    "\n",
    "    print(\"Links están siendo recolectados\")\n",
    "    Encontrar_links()\n",
    "    \n",
    "    # Crear variable global\n",
    "    global búsquedas\n",
    "    \n",
    "    # Crear dataframe y exportar\n",
    "    búsquedas = pd.DataFrame(zip(títulos, links), columns = ['Títulos', 'Links'])\n",
    "    búsquedas.to_csv('./Datos/Caso03_links.csv', index = False)\n",
    "    \n",
    "    # Imprimir resultados\n",
    "    print(búsquedas.shape[0])\n",
    "    return búsquedas"
   ]
  },
  {
   "cell_type": "code",
   "execution_count": null,
   "metadata": {},
   "outputs": [],
   "source": [
    "# Función para extracción de contenido\n",
    "def WS_CONTENT(datos):\n",
    "    # Crear listas vacías para almacenar información\n",
    "    ID = []\n",
    "    Títulos = []\n",
    "    Transcripción = []\n",
    "    \n",
    "    # Visite cada link uno por uno para hacer scraping a la información\n",
    "    print('Visitar los links y recopilar información acaba de comenzar.')\n",
    "\n",
    "    for i in range(len(datos)):\n",
    "        # Abrir link\n",
    "        try:\n",
    "            # Ingresar a la página\n",
    "            driver.get(datos['Links'][i])\n",
    "            ID.append(datos['ID'][i])\n",
    "            Títulos.append(datos['Títulos'][i])\n",
    "            time.sleep(7)\n",
    "            # Pausar el vídeo\n",
    "            driver.find_element(By.CLASS_NAME, \"ytp-play-button\").click()\n",
    "            time.sleep(2)\n",
    "            # Dar clic en ..más\n",
    "            driver.find_element(By.XPATH, \"//tp-yt-paper-button[@id='expand']\").click()\n",
    "            time.sleep(1)\n",
    "            # Dar clic en Mostrar transcripción\n",
    "            driver.find_element(By.XPATH, \"//button[contains(@aria-label, 'Mostrar transcripción')]\").click()\n",
    "            time.sleep(5)\n",
    "            # Recoger transcripciones\n",
    "            block = driver.find_element(By.ID, \"segments-container\")\n",
    "            segmentos = block.find_elements(By.XPATH, \"//yt-formatted-string[contains(@class, 'segment-text style-scope ytd-transcript-segment-renderer')]\")\n",
    "            textos = []\n",
    "            for segmento in segmentos:\n",
    "                textos.append(segmento.text)\n",
    "            \n",
    "            Transcripción.append(' '.join(textos))\n",
    "            \n",
    "        except:\n",
    "            print(f'No se puedo realizar scraping en el ID {i+1}')\n",
    "            pass\n",
    "\n",
    "    # Crear variable global\n",
    "    global Caso03_Transcripciones\n",
    "        \n",
    "    # Crear dataframe\n",
    "    Caso03_Transcripciones = pd.DataFrame(zip(ID, Títulos, Transcripción), columns = ['ID', \"Títulos\", 'Transcripciones'])\n",
    "\n",
    "    # Exportar\n",
    "    Caso03_Transcripciones.to_csv('./Datos/Caso03_Transcripciones.csv', index = False)\n",
    "        \n",
    "    # Imprimir resultados\n",
    "    print(f'Scraping de los links ha resultado en {Caso03_Transcripciones.shape[0]} filas de {len(datos)}')"
   ]
  },
  {
   "cell_type": "markdown",
   "metadata": {},
   "source": [
    "### **EXTRACCIÓN DE LINKS**"
   ]
  },
  {
   "cell_type": "code",
   "execution_count": null,
   "metadata": {},
   "outputs": [],
   "source": [
    "# Web driver\n",
    "\n",
    "## Usar Brave chromedriver\n",
    "browser = '/Applications/Brave Browser.app/Contents/MacOS/Brave Browser'\n",
    "options = webdriver.ChromeOptions()\n",
    "options.binary_location = browser\n",
    "options.add_experimental_option(\"detach\", True)\n",
    "driver = webdriver.Chrome(options = options)\n",
    "## Esperar a que cargue"
   ]
  },
  {
   "cell_type": "code",
   "execution_count": null,
   "metadata": {},
   "outputs": [],
   "source": [
    "# Abrir la página de la playlist\n",
    "driver.get(\"https://www.youtube.com/playlist?list=PLbtegW3d3L4Id_lrAgBRDGf-k_bwEYH6_\")\n",
    "## Esperar a que cargue\n",
    "## Asegurarse de ir hasta el final de la página y regresar al inicio para que pueda recoger todos los títulos"
   ]
  },
  {
   "cell_type": "code",
   "execution_count": null,
   "metadata": {},
   "outputs": [],
   "source": [
    "# Extracción links\n",
    "WS_LINKS()"
   ]
  },
  {
   "cell_type": "markdown",
   "metadata": {},
   "source": [
    "### **EXTRACCIÓN DE CONTENIDO**"
   ]
  },
  {
   "cell_type": "code",
   "execution_count": null,
   "metadata": {},
   "outputs": [],
   "source": [
    "# Importar datos extraídos anteriormente\n",
    "datos = pd.read_csv(\"./Datos/Caso03_links.csv\")\n",
    "\n",
    "# Generar ids\n",
    "datos['ID'] = datos.index + 1\n",
    "\n",
    "# Reorganizar las columnas\n",
    "datos = datos[[\"ID\", \"Títulos\", \"Links\"]]\n",
    "\n",
    "datos"
   ]
  },
  {
   "cell_type": "code",
   "execution_count": null,
   "metadata": {},
   "outputs": [],
   "source": [
    "WS_CONTENT(datos)"
   ]
  },
  {
   "cell_type": "code",
   "execution_count": null,
   "metadata": {},
   "outputs": [],
   "source": [
    "# \n",
    "driver.quit()"
   ]
  }
 ],
 "metadata": {
  "kernelspec": {
   "display_name": "networks",
   "language": "python",
   "name": "python3"
  },
  "language_info": {
   "codemirror_mode": {
    "name": "ipython",
    "version": 3
   },
   "file_extension": ".py",
   "mimetype": "text/x-python",
   "name": "python",
   "nbconvert_exporter": "python",
   "pygments_lexer": "ipython3",
   "version": "3.12.2"
  }
 },
 "nbformat": 4,
 "nbformat_minor": 2
}
