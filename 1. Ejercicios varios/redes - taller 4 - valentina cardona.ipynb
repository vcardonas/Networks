{
 "cells": [
  {
   "cell_type": "markdown",
   "metadata": {},
   "source": [
    "# **Análisis Estadístico de Redes Sociales: Taller 4**\n",
    "\n",
    "## Valentina Cardona Saldaña"
   ]
  },
  {
   "cell_type": "markdown",
   "metadata": {},
   "source": [
    "## **WEB SCRAPING: RECOLECCIÓN DE TRANSCRIPCIONES**"
   ]
  },
  {
   "cell_type": "markdown",
   "metadata": {},
   "source": [
    "### **LIBRERÍAS**"
   ]
  },
  {
   "cell_type": "code",
   "execution_count": 1,
   "metadata": {},
   "outputs": [],
   "source": [
    "# Paquetes\n",
    "import pandas as pd\n",
    "import numpy as np\n",
    "import time\n",
    "\n",
    "import selenium\n",
    "from selenium import webdriver\n",
    "from selenium.webdriver.chrome.service import Service\n",
    "from selenium.webdriver.common.by import By\n",
    "from selenium.webdriver.support.ui import WebDriverWait\n",
    "from selenium.webdriver.support import expected_conditions as EC\n",
    "from selenium.webdriver.common.keys import Keys\n",
    "from selenium.common.exceptions import NoSuchElementException\n"
   ]
  },
  {
   "cell_type": "markdown",
   "metadata": {},
   "source": [
    "### **FUNCIONES**"
   ]
  },
  {
   "cell_type": "code",
   "execution_count": 2,
   "metadata": {},
   "outputs": [],
   "source": [
    "# Función para extracción de links\n",
    "def WS_LINKS():\n",
    "\n",
    "    títulos = []\n",
    "    links = []\n",
    "\n",
    "    # Función para recolectar links\n",
    "    def Encontrar_links():\n",
    "        try:\n",
    "            # Encontrar bloque de playlist\n",
    "            block = driver.find_element(By.CLASS_NAME, \"style-scope ytd-playlist-video-list-renderer\")\n",
    "            search_list = block.find_elements(By.XPATH, \"//h3[contains(@class, 'ytd-playlist-video-renderer')]\")\n",
    "\n",
    "            # Recolectar links y títulos\n",
    "            for search in search_list:\n",
    "                all_links = search.find_elements(By.TAG_NAME, \"a\")\n",
    "                for a in all_links:\n",
    "                    if str(a.get_attribute(\"href\")).startswith(\"https://www.youtube.com/\") and a.get_attribute(\"href\") not in links: \n",
    "                        títulos.append(a.text)\n",
    "                        links.append(a.get_attribute(\"href\"))\n",
    "                    else:\n",
    "                        pass\n",
    "\n",
    "                # Desplazar hacia abajo para ver todos los títulos de los vídeos\n",
    "                driver.execute_script(\"arguments[0].scrollIntoView();\", search)\n",
    "        except:\n",
    "            pass\n",
    "\n",
    "    print(\"Links están siendo recolectados\")\n",
    "    Encontrar_links()\n",
    "    \n",
    "    # Crear variable global\n",
    "    global búsquedas\n",
    "    \n",
    "    # Crear dataframe y exportar\n",
    "    búsquedas = pd.DataFrame(zip(títulos, links), columns = ['Títulos', 'Links'])\n",
    "    búsquedas.to_csv('./Datos/Caso03_links.csv', index = False)\n",
    "    \n",
    "    # Imprimir resultados\n",
    "    print(búsquedas.shape[0])\n",
    "    return búsquedas"
   ]
  },
  {
   "cell_type": "code",
   "execution_count": 3,
   "metadata": {},
   "outputs": [],
   "source": [
    "# Función para extracción de contenido\n",
    "def WS_CONTENT(datos):\n",
    "    # Crear listas vacías para almacenar información\n",
    "    ID = []\n",
    "    Títulos = []\n",
    "    Transcripción = []\n",
    "    \n",
    "    # Visite cada link uno por uno para hacer scraping a la información\n",
    "    print('Visitar los links y recopilar información acaba de comenzar.')\n",
    "\n",
    "    for i in range(len(datos)):\n",
    "        # Abrir link\n",
    "        try:\n",
    "            # Ingresar a la página\n",
    "            driver.get(datos['Links'][i])\n",
    "            ID.append(datos['ID'][i])\n",
    "            Títulos.append(datos['Títulos'][i])\n",
    "            time.sleep(7)\n",
    "            # Pausar el vídeo\n",
    "            driver.find_element(By.CLASS_NAME, \"ytp-play-button\").click()\n",
    "            time.sleep(3)\n",
    "            # Dar clic en ..más\n",
    "            driver.find_element(By.XPATH, \"//tp-yt-paper-button[@id='expand']\").click()\n",
    "            time.sleep(2)\n",
    "            # Dar clic en Mostrar transcripción\n",
    "            driver.find_element(By.XPATH, \"//button[contains(@aria-label, 'Mostrar transcripción')]\").click()\n",
    "            time.sleep(7)\n",
    "            # Recoger transcripciones\n",
    "            block = driver.find_element(By.ID, \"segments-container\")\n",
    "            segmentos = block.find_elements(By.XPATH, \"//yt-formatted-string[contains(@class, 'segment-text style-scope ytd-transcript-segment-renderer')]\")\n",
    "            textos = []\n",
    "            for segmento in segmentos:\n",
    "                textos.append(segmento.text)\n",
    "            \n",
    "            Transcripción.append(' '.join(textos))\n",
    "            \n",
    "        except NoSuchElementException:\n",
    "            print(f'No se pudo realizar scraping en el ID {datos['ID'][i]}')\n",
    "            pass\n",
    "\n",
    "    # Crear variable global\n",
    "    global Caso03_Transcripciones\n",
    "        \n",
    "    # Crear dataframe\n",
    "    Caso03_Transcripciones = pd.DataFrame(zip(ID, Títulos, Transcripción), columns = ['ID', \"Títulos\", 'Transcripciones'])\n",
    "\n",
    "    # Exportar\n",
    "    Caso03_Transcripciones.to_csv('./Datos/Caso03_Transcripciones.csv', index = False)\n",
    "        \n",
    "    # Imprimir resultados\n",
    "    print(f'Scraping de los links ha resultado en {Caso03_Transcripciones.shape[0]} filas de {len(datos)}')"
   ]
  },
  {
   "cell_type": "markdown",
   "metadata": {},
   "source": [
    "### **WEB DRIVER**"
   ]
  },
  {
   "cell_type": "code",
   "execution_count": 4,
   "metadata": {},
   "outputs": [],
   "source": [
    "# Web driver\n",
    "\n",
    "## Usar Brave chromedriver\n",
    "browser = '/Applications/Brave Browser.app/Contents/MacOS/Brave Browser'\n",
    "options = webdriver.ChromeOptions()\n",
    "options.binary_location = browser\n",
    "options.add_experimental_option(\"detach\", True)\n",
    "driver = webdriver.Chrome(options = options)\n",
    "## Esperar a que cargue"
   ]
  },
  {
   "cell_type": "markdown",
   "metadata": {},
   "source": [
    "### **EXTRACCIÓN DE LINKS**"
   ]
  },
  {
   "cell_type": "code",
   "execution_count": null,
   "metadata": {},
   "outputs": [],
   "source": [
    "# Abrir la página de la playlist\n",
    "driver.get(\"https://www.youtube.com/playlist?list=PLbtegW3d3L4Id_lrAgBRDGf-k_bwEYH6_\")\n",
    "## Esperar a que cargue\n",
    "## Asegurarse de ir hasta el final de la página y regresar al inicio para que pueda recoger todos los títulos"
   ]
  },
  {
   "cell_type": "code",
   "execution_count": null,
   "metadata": {},
   "outputs": [],
   "source": [
    "# Extracción links\n",
    "WS_LINKS()"
   ]
  },
  {
   "cell_type": "markdown",
   "metadata": {},
   "source": [
    "### **EXTRACCIÓN DE CONTENIDO**"
   ]
  },
  {
   "cell_type": "code",
   "execution_count": 5,
   "metadata": {},
   "outputs": [
    {
     "name": "stdout",
     "output_type": "stream",
     "text": [
      "hello\n"
     ]
    }
   ],
   "source": [
    "print(\"hello\")"
   ]
  },
  {
   "cell_type": "code",
   "execution_count": 12,
   "metadata": {},
   "outputs": [
    {
     "data": {
      "text/html": [
       "<div>\n",
       "<style scoped>\n",
       "    .dataframe tbody tr th:only-of-type {\n",
       "        vertical-align: middle;\n",
       "    }\n",
       "\n",
       "    .dataframe tbody tr th {\n",
       "        vertical-align: top;\n",
       "    }\n",
       "\n",
       "    .dataframe thead th {\n",
       "        text-align: right;\n",
       "    }\n",
       "</style>\n",
       "<table border=\"1\" class=\"dataframe\">\n",
       "  <thead>\n",
       "    <tr style=\"text-align: right;\">\n",
       "      <th></th>\n",
       "      <th>ID</th>\n",
       "      <th>Títulos</th>\n",
       "      <th>Links</th>\n",
       "    </tr>\n",
       "  </thead>\n",
       "  <tbody>\n",
       "    <tr>\n",
       "      <th>0</th>\n",
       "      <td>1</td>\n",
       "      <td>Caso 03 | Edwin Leonardo Toro | Subcaso Casana...</td>\n",
       "      <td>https://www.youtube.com/watch?v=Dlfn1RekIeA&amp;li...</td>\n",
       "    </tr>\n",
       "    <tr>\n",
       "      <th>1</th>\n",
       "      <td>2</td>\n",
       "      <td>Invitación Caso 04 | Juan Manuel Grajales y Ge...</td>\n",
       "      <td>https://www.youtube.com/watch?v=KnwzIgiijTA&amp;li...</td>\n",
       "    </tr>\n",
       "    <tr>\n",
       "      <th>2</th>\n",
       "      <td>3</td>\n",
       "      <td>C 03 - 04 | Sargento Primero (r) Jaime Coral y...</td>\n",
       "      <td>https://www.youtube.com/watch?v=pkgwJ2y4eyU&amp;li...</td>\n",
       "    </tr>\n",
       "    <tr>\n",
       "      <th>3</th>\n",
       "      <td>4</td>\n",
       "      <td>Casos 03 - 04 | Soldado Profesional (r) Gabrie...</td>\n",
       "      <td>https://www.youtube.com/watch?v=yPaWsnpeWdk&amp;li...</td>\n",
       "    </tr>\n",
       "    <tr>\n",
       "      <th>4</th>\n",
       "      <td>5</td>\n",
       "      <td>Casos 03 - 04 | Segundo Sargento (r) Armando F...</td>\n",
       "      <td>https://www.youtube.com/watch?v=9rXtyCdwLHI&amp;li...</td>\n",
       "    </tr>\n",
       "    <tr>\n",
       "      <th>...</th>\n",
       "      <td>...</td>\n",
       "      <td>...</td>\n",
       "      <td>...</td>\n",
       "    </tr>\n",
       "    <tr>\n",
       "      <th>433</th>\n",
       "      <td>434</td>\n",
       "      <td>Caso 03 | Henry Hernán Acosta | Subcaso Casana...</td>\n",
       "      <td>https://www.youtube.com/watch?v=VOFlxqzJqLw&amp;li...</td>\n",
       "    </tr>\n",
       "    <tr>\n",
       "      <th>434</th>\n",
       "      <td>435</td>\n",
       "      <td>Caso 03 | Jorge Arturo Romero Romero | Subcaso...</td>\n",
       "      <td>https://www.youtube.com/watch?v=NmU4Q32oLMM&amp;li...</td>\n",
       "    </tr>\n",
       "    <tr>\n",
       "      <th>435</th>\n",
       "      <td>436</td>\n",
       "      <td>Caso 03 | Guillermo Quiñónez | Subcaso Casanar...</td>\n",
       "      <td>https://www.youtube.com/watch?v=vjzz91wkNHo&amp;li...</td>\n",
       "    </tr>\n",
       "    <tr>\n",
       "      <th>436</th>\n",
       "      <td>437</td>\n",
       "      <td>Caso 03 | Leandro Eliécer Moná Cano | Subcaso ...</td>\n",
       "      <td>https://www.youtube.com/watch?v=HS3oQWBvje8&amp;li...</td>\n",
       "    </tr>\n",
       "    <tr>\n",
       "      <th>437</th>\n",
       "      <td>438</td>\n",
       "      <td>Caso 03 | Juan Pablo Bravo | Subcaso Casanare ...</td>\n",
       "      <td>https://www.youtube.com/watch?v=mJX7VBllEQw&amp;li...</td>\n",
       "    </tr>\n",
       "  </tbody>\n",
       "</table>\n",
       "<p>438 rows × 3 columns</p>\n",
       "</div>"
      ],
      "text/plain": [
       "      ID                                            Títulos  \\\n",
       "0      1  Caso 03 | Edwin Leonardo Toro | Subcaso Casana...   \n",
       "1      2  Invitación Caso 04 | Juan Manuel Grajales y Ge...   \n",
       "2      3  C 03 - 04 | Sargento Primero (r) Jaime Coral y...   \n",
       "3      4  Casos 03 - 04 | Soldado Profesional (r) Gabrie...   \n",
       "4      5  Casos 03 - 04 | Segundo Sargento (r) Armando F...   \n",
       "..   ...                                                ...   \n",
       "433  434  Caso 03 | Henry Hernán Acosta | Subcaso Casana...   \n",
       "434  435  Caso 03 | Jorge Arturo Romero Romero | Subcaso...   \n",
       "435  436  Caso 03 | Guillermo Quiñónez | Subcaso Casanar...   \n",
       "436  437  Caso 03 | Leandro Eliécer Moná Cano | Subcaso ...   \n",
       "437  438  Caso 03 | Juan Pablo Bravo | Subcaso Casanare ...   \n",
       "\n",
       "                                                 Links  \n",
       "0    https://www.youtube.com/watch?v=Dlfn1RekIeA&li...  \n",
       "1    https://www.youtube.com/watch?v=KnwzIgiijTA&li...  \n",
       "2    https://www.youtube.com/watch?v=pkgwJ2y4eyU&li...  \n",
       "3    https://www.youtube.com/watch?v=yPaWsnpeWdk&li...  \n",
       "4    https://www.youtube.com/watch?v=9rXtyCdwLHI&li...  \n",
       "..                                                 ...  \n",
       "433  https://www.youtube.com/watch?v=VOFlxqzJqLw&li...  \n",
       "434  https://www.youtube.com/watch?v=NmU4Q32oLMM&li...  \n",
       "435  https://www.youtube.com/watch?v=vjzz91wkNHo&li...  \n",
       "436  https://www.youtube.com/watch?v=HS3oQWBvje8&li...  \n",
       "437  https://www.youtube.com/watch?v=mJX7VBllEQw&li...  \n",
       "\n",
       "[438 rows x 3 columns]"
      ]
     },
     "execution_count": 12,
     "metadata": {},
     "output_type": "execute_result"
    }
   ],
   "source": [
    "# Importar datos extraídos anteriormente\n",
    "datos = pd.read_csv(\"./Datos/Caso03_links.csv\")\n",
    "\n",
    "# Generar ids\n",
    "datos['ID'] = datos.index + 1\n",
    "\n",
    "# Reorganizar las columnas\n",
    "datos = datos[[\"ID\", \"Títulos\", \"Links\"]]\n",
    "\n",
    "datos"
   ]
  },
  {
   "cell_type": "code",
   "execution_count": 13,
   "metadata": {},
   "outputs": [],
   "source": [
    "datos = datos[89:438]\n",
    "datos = datos.reset_index()"
   ]
  },
  {
   "cell_type": "code",
   "execution_count": 15,
   "metadata": {},
   "outputs": [
    {
     "name": "stdout",
     "output_type": "stream",
     "text": [
      "Visitar los links y recopilar información acaba de comenzar.\n",
      "No se pudo realizar scraping en el ID 90\n",
      "No se pudo realizar scraping en el ID 100\n"
     ]
    },
    {
     "ename": "WebDriverException",
     "evalue": "Message: unknown error: session deleted because of page crash\nfrom unknown error: cannot determine loading status\nfrom tab crashed\n  (Session info: chrome=124.0.6367.60)\nStacktrace:\n0   chromedriver                        0x0000000101238cf8 chromedriver + 5188856\n1   chromedriver                        0x0000000101230863 chromedriver + 5154915\n2   chromedriver                        0x0000000100da8e8b chromedriver + 405131\n3   chromedriver                        0x0000000100d91cd3 chromedriver + 310483\n4   chromedriver                        0x0000000100d91589 chromedriver + 308617\n5   chromedriver                        0x0000000100d90c4c chromedriver + 306252\n6   chromedriver                        0x0000000100d90a9f chromedriver + 305823\n7   chromedriver                        0x0000000100d8eb5d chromedriver + 297821\n8   chromedriver                        0x0000000100d8efef chromedriver + 298991\n9   chromedriver                        0x0000000100d9f4a5 chromedriver + 365733\n10  chromedriver                        0x0000000100db4efd chromedriver + 454397\n11  chromedriver                        0x0000000100dba63b chromedriver + 476731\n12  chromedriver                        0x0000000100d8f6e2 chromedriver + 300770\n13  chromedriver                        0x0000000100db4b3e chromedriver + 453438\n14  chromedriver                        0x0000000100e35d94 chromedriver + 982420\n15  chromedriver                        0x0000000100e16c53 chromedriver + 855123\n16  chromedriver                        0x0000000100de7953 chromedriver + 661843\n17  chromedriver                        0x0000000100de829e chromedriver + 664222\n18  chromedriver                        0x00000001011f70c0 chromedriver + 4919488\n19  chromedriver                        0x00000001011fd175 chromedriver + 4944245\n20  chromedriver                        0x00000001011d7f8e chromedriver + 4792206\n21  chromedriver                        0x00000001011fdc99 chromedriver + 4947097\n22  chromedriver                        0x00000001011c85e4 chromedriver + 4728292\n23  chromedriver                        0x000000010121fd08 chromedriver + 5086472\n24  chromedriver                        0x000000010121fec7 chromedriver + 5086919\n25  chromedriver                        0x0000000101230483 chromedriver + 5153923\n26  libsystem_pthread.dylib             0x00007ff80ea1218b _pthread_start + 99\n27  libsystem_pthread.dylib             0x00007ff80ea0dae3 thread_start + 15\n",
     "output_type": "error",
     "traceback": [
      "\u001b[0;31m---------------------------------------------------------------------------\u001b[0m",
      "\u001b[0;31mWebDriverException\u001b[0m                        Traceback (most recent call last)",
      "Cell \u001b[0;32mIn[15], line 2\u001b[0m\n\u001b[1;32m      1\u001b[0m \u001b[38;5;66;03m# Extraer contenidos\u001b[39;00m\n\u001b[0;32m----> 2\u001b[0m WS_CONTENT(datos)\n",
      "Cell \u001b[0;32mIn[3], line 29\u001b[0m, in \u001b[0;36mWS_CONTENT\u001b[0;34m(datos)\u001b[0m\n\u001b[1;32m     27\u001b[0m time\u001b[38;5;241m.\u001b[39msleep(\u001b[38;5;241m7\u001b[39m)\n\u001b[1;32m     28\u001b[0m \u001b[38;5;66;03m# Recoger transcripciones\u001b[39;00m\n\u001b[0;32m---> 29\u001b[0m block \u001b[38;5;241m=\u001b[39m driver\u001b[38;5;241m.\u001b[39mfind_element(By\u001b[38;5;241m.\u001b[39mID, \u001b[38;5;124m\"\u001b[39m\u001b[38;5;124msegments-container\u001b[39m\u001b[38;5;124m\"\u001b[39m)\n\u001b[1;32m     30\u001b[0m segmentos \u001b[38;5;241m=\u001b[39m block\u001b[38;5;241m.\u001b[39mfind_elements(By\u001b[38;5;241m.\u001b[39mXPATH, \u001b[38;5;124m\"\u001b[39m\u001b[38;5;124m//yt-formatted-string[contains(@class, \u001b[39m\u001b[38;5;124m'\u001b[39m\u001b[38;5;124msegment-text style-scope ytd-transcript-segment-renderer\u001b[39m\u001b[38;5;124m'\u001b[39m\u001b[38;5;124m)]\u001b[39m\u001b[38;5;124m\"\u001b[39m)\n\u001b[1;32m     31\u001b[0m textos \u001b[38;5;241m=\u001b[39m []\n",
      "File \u001b[0;32m~/anaconda3/envs/networks/lib/python3.12/site-packages/selenium/webdriver/remote/webdriver.py:741\u001b[0m, in \u001b[0;36mWebDriver.find_element\u001b[0;34m(self, by, value)\u001b[0m\n\u001b[1;32m    738\u001b[0m     by \u001b[38;5;241m=\u001b[39m By\u001b[38;5;241m.\u001b[39mCSS_SELECTOR\n\u001b[1;32m    739\u001b[0m     value \u001b[38;5;241m=\u001b[39m \u001b[38;5;124mf\u001b[39m\u001b[38;5;124m'\u001b[39m\u001b[38;5;124m[name=\u001b[39m\u001b[38;5;124m\"\u001b[39m\u001b[38;5;132;01m{\u001b[39;00mvalue\u001b[38;5;132;01m}\u001b[39;00m\u001b[38;5;124m\"\u001b[39m\u001b[38;5;124m]\u001b[39m\u001b[38;5;124m'\u001b[39m\n\u001b[0;32m--> 741\u001b[0m \u001b[38;5;28;01mreturn\u001b[39;00m \u001b[38;5;28mself\u001b[39m\u001b[38;5;241m.\u001b[39mexecute(Command\u001b[38;5;241m.\u001b[39mFIND_ELEMENT, {\u001b[38;5;124m\"\u001b[39m\u001b[38;5;124musing\u001b[39m\u001b[38;5;124m\"\u001b[39m: by, \u001b[38;5;124m\"\u001b[39m\u001b[38;5;124mvalue\u001b[39m\u001b[38;5;124m\"\u001b[39m: value})[\u001b[38;5;124m\"\u001b[39m\u001b[38;5;124mvalue\u001b[39m\u001b[38;5;124m\"\u001b[39m]\n",
      "File \u001b[0;32m~/anaconda3/envs/networks/lib/python3.12/site-packages/selenium/webdriver/remote/webdriver.py:347\u001b[0m, in \u001b[0;36mWebDriver.execute\u001b[0;34m(self, driver_command, params)\u001b[0m\n\u001b[1;32m    345\u001b[0m response \u001b[38;5;241m=\u001b[39m \u001b[38;5;28mself\u001b[39m\u001b[38;5;241m.\u001b[39mcommand_executor\u001b[38;5;241m.\u001b[39mexecute(driver_command, params)\n\u001b[1;32m    346\u001b[0m \u001b[38;5;28;01mif\u001b[39;00m response:\n\u001b[0;32m--> 347\u001b[0m     \u001b[38;5;28mself\u001b[39m\u001b[38;5;241m.\u001b[39merror_handler\u001b[38;5;241m.\u001b[39mcheck_response(response)\n\u001b[1;32m    348\u001b[0m     response[\u001b[38;5;124m\"\u001b[39m\u001b[38;5;124mvalue\u001b[39m\u001b[38;5;124m\"\u001b[39m] \u001b[38;5;241m=\u001b[39m \u001b[38;5;28mself\u001b[39m\u001b[38;5;241m.\u001b[39m_unwrap_value(response\u001b[38;5;241m.\u001b[39mget(\u001b[38;5;124m\"\u001b[39m\u001b[38;5;124mvalue\u001b[39m\u001b[38;5;124m\"\u001b[39m, \u001b[38;5;28;01mNone\u001b[39;00m))\n\u001b[1;32m    349\u001b[0m     \u001b[38;5;28;01mreturn\u001b[39;00m response\n",
      "File \u001b[0;32m~/anaconda3/envs/networks/lib/python3.12/site-packages/selenium/webdriver/remote/errorhandler.py:229\u001b[0m, in \u001b[0;36mErrorHandler.check_response\u001b[0;34m(self, response)\u001b[0m\n\u001b[1;32m    227\u001b[0m         alert_text \u001b[38;5;241m=\u001b[39m value[\u001b[38;5;124m\"\u001b[39m\u001b[38;5;124malert\u001b[39m\u001b[38;5;124m\"\u001b[39m]\u001b[38;5;241m.\u001b[39mget(\u001b[38;5;124m\"\u001b[39m\u001b[38;5;124mtext\u001b[39m\u001b[38;5;124m\"\u001b[39m)\n\u001b[1;32m    228\u001b[0m     \u001b[38;5;28;01mraise\u001b[39;00m exception_class(message, screen, stacktrace, alert_text)  \u001b[38;5;66;03m# type: ignore[call-arg]  # mypy is not smart enough here\u001b[39;00m\n\u001b[0;32m--> 229\u001b[0m \u001b[38;5;28;01mraise\u001b[39;00m exception_class(message, screen, stacktrace)\n",
      "\u001b[0;31mWebDriverException\u001b[0m: Message: unknown error: session deleted because of page crash\nfrom unknown error: cannot determine loading status\nfrom tab crashed\n  (Session info: chrome=124.0.6367.60)\nStacktrace:\n0   chromedriver                        0x0000000101238cf8 chromedriver + 5188856\n1   chromedriver                        0x0000000101230863 chromedriver + 5154915\n2   chromedriver                        0x0000000100da8e8b chromedriver + 405131\n3   chromedriver                        0x0000000100d91cd3 chromedriver + 310483\n4   chromedriver                        0x0000000100d91589 chromedriver + 308617\n5   chromedriver                        0x0000000100d90c4c chromedriver + 306252\n6   chromedriver                        0x0000000100d90a9f chromedriver + 305823\n7   chromedriver                        0x0000000100d8eb5d chromedriver + 297821\n8   chromedriver                        0x0000000100d8efef chromedriver + 298991\n9   chromedriver                        0x0000000100d9f4a5 chromedriver + 365733\n10  chromedriver                        0x0000000100db4efd chromedriver + 454397\n11  chromedriver                        0x0000000100dba63b chromedriver + 476731\n12  chromedriver                        0x0000000100d8f6e2 chromedriver + 300770\n13  chromedriver                        0x0000000100db4b3e chromedriver + 453438\n14  chromedriver                        0x0000000100e35d94 chromedriver + 982420\n15  chromedriver                        0x0000000100e16c53 chromedriver + 855123\n16  chromedriver                        0x0000000100de7953 chromedriver + 661843\n17  chromedriver                        0x0000000100de829e chromedriver + 664222\n18  chromedriver                        0x00000001011f70c0 chromedriver + 4919488\n19  chromedriver                        0x00000001011fd175 chromedriver + 4944245\n20  chromedriver                        0x00000001011d7f8e chromedriver + 4792206\n21  chromedriver                        0x00000001011fdc99 chromedriver + 4947097\n22  chromedriver                        0x00000001011c85e4 chromedriver + 4728292\n23  chromedriver                        0x000000010121fd08 chromedriver + 5086472\n24  chromedriver                        0x000000010121fec7 chromedriver + 5086919\n25  chromedriver                        0x0000000101230483 chromedriver + 5153923\n26  libsystem_pthread.dylib             0x00007ff80ea1218b _pthread_start + 99\n27  libsystem_pthread.dylib             0x00007ff80ea0dae3 thread_start + 15\n"
     ]
    }
   ],
   "source": [
    "# Extraer contenidos\n",
    "WS_CONTENT(datos)"
   ]
  },
  {
   "cell_type": "code",
   "execution_count": null,
   "metadata": {},
   "outputs": [],
   "source": [
    "# Extraer contenidos\n",
    "WS_CONTENT(datos)"
   ]
  },
  {
   "cell_type": "code",
   "execution_count": 16,
   "metadata": {},
   "outputs": [],
   "source": [
    "# \n",
    "driver.quit()"
   ]
  },
  {
   "cell_type": "code",
   "execution_count": null,
   "metadata": {},
   "outputs": [],
   "source": [
    "\"Visitar los links y recopilar información acaba de comenzar.\n",
    "No se pudo realizar scraping en el ID 90\n",
    "No se pudo realizar scraping en el ID 100\""
   ]
  }
 ],
 "metadata": {
  "kernelspec": {
   "display_name": "networks",
   "language": "python",
   "name": "python3"
  },
  "language_info": {
   "codemirror_mode": {
    "name": "ipython",
    "version": 3
   },
   "file_extension": ".py",
   "mimetype": "text/x-python",
   "name": "python",
   "nbconvert_exporter": "python",
   "pygments_lexer": "ipython3",
   "version": "3.12.2"
  }
 },
 "nbformat": 4,
 "nbformat_minor": 2
}
